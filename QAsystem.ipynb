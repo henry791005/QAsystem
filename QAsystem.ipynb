{
  "nbformat": 4,
  "nbformat_minor": 0,
  "metadata": {
    "colab": {
      "name": "Untitled9.ipynb",
      "provenance": []
    },
    "kernelspec": {
      "name": "python3",
      "display_name": "Python 3"
    }
  },
  "cells": [
    {
      "cell_type": "code",
      "metadata": {
        "id": "BZWmR0_BQX8H",
        "colab_type": "code",
        "outputId": "8468f632-f532-4cc4-9ebb-6e487a173815",
        "colab": {
          "base_uri": "https://localhost:8080/",
          "height": 302
        }
      },
      "source": [
        "!pip install -U synonyms\n",
        "!pip install hanziconv"
      ],
      "execution_count": 0,
      "outputs": [
        {
          "output_type": "stream",
          "text": [
            "Requirement already up-to-date: synonyms in /usr/local/lib/python3.6/dist-packages (3.10.2)\n",
            "Requirement already satisfied, skipping upgrade: scipy>=1.0.0 in /usr/local/lib/python3.6/dist-packages (from synonyms) (1.4.1)\n",
            "Requirement already satisfied, skipping upgrade: six>=1.11.0 in /usr/local/lib/python3.6/dist-packages (from synonyms) (1.12.0)\n",
            "Requirement already satisfied, skipping upgrade: scikit-learn>=0.19.1 in /usr/local/lib/python3.6/dist-packages (from synonyms) (0.22.2.post1)\n",
            "Requirement already satisfied, skipping upgrade: numpy>=1.13.1 in /usr/local/lib/python3.6/dist-packages (from synonyms) (1.18.3)\n",
            "Requirement already satisfied, skipping upgrade: absl-py>=0.4 in /usr/local/lib/python3.6/dist-packages (from synonyms) (0.9.0)\n",
            "Requirement already satisfied, skipping upgrade: joblib>=0.11 in /usr/local/lib/python3.6/dist-packages (from scikit-learn>=0.19.1->synonyms) (0.14.1)\n",
            "Collecting hanziconv\n",
            "\u001b[?25l  Downloading https://files.pythonhosted.org/packages/63/71/b89cb63077fd807fe31cf7c016a06e7e579a289d8a37aa24a30282d02dd2/hanziconv-0.3.2.tar.gz (276kB)\n",
            "\u001b[K     |████████████████████████████████| 286kB 7.2MB/s \n",
            "\u001b[?25hBuilding wheels for collected packages: hanziconv\n",
            "  Building wheel for hanziconv (setup.py) ... \u001b[?25l\u001b[?25hdone\n",
            "  Created wheel for hanziconv: filename=hanziconv-0.3.2-py2.py3-none-any.whl size=23215 sha256=e3d471f6d0edfb493ebab341395008cfed1d27284b58d66555dee9f8f1ada0ad\n",
            "  Stored in directory: /root/.cache/pip/wheels/03/d8/3c/c39898fa9c9ce6e34b0ab4c6604892462d440c743715c94054\n",
            "Successfully built hanziconv\n",
            "Installing collected packages: hanziconv\n",
            "Successfully installed hanziconv-0.3.2\n"
          ],
          "name": "stdout"
        }
      ]
    },
    {
      "cell_type": "code",
      "metadata": {
        "id": "eBpOrL52Ub0w",
        "colab_type": "code",
        "colab": {}
      },
      "source": [
        "import pandas as pd\n",
        "import synonyms\n",
        "from hanziconv import HanziConv"
      ],
      "execution_count": 0,
      "outputs": []
    },
    {
      "cell_type": "code",
      "metadata": {
        "id": "J5bbbjJzRWpT",
        "colab_type": "code",
        "outputId": "7c83548e-c754-408c-aaf6-afa64beed933",
        "colab": {
          "base_uri": "https://localhost:8080/",
          "height": 121
        }
      },
      "source": [
        "import os\n",
        "os.chdir(\"/\")\n",
        "\n",
        "from google.colab import drive\n",
        "try:\n",
        "    drive.mount('content/gdrive', force_remount=True)\n",
        "except:\n",
        "    print('你的 drive 掛載不成功')\n",
        "    \n",
        "os.chdir(\"/content/gdrive/My Drive/colab\")"
      ],
      "execution_count": 0,
      "outputs": [
        {
          "output_type": "stream",
          "text": [
            "Go to this URL in a browser: https://accounts.google.com/o/oauth2/auth?client_id=947318989803-6bn6qk8qdgf4n4g3pfee6491hc0brc4i.apps.googleusercontent.com&redirect_uri=urn%3aietf%3awg%3aoauth%3a2.0%3aoob&response_type=code&scope=email%20https%3a%2f%2fwww.googleapis.com%2fauth%2fdocs.test%20https%3a%2f%2fwww.googleapis.com%2fauth%2fdrive%20https%3a%2f%2fwww.googleapis.com%2fauth%2fdrive.photos.readonly%20https%3a%2f%2fwww.googleapis.com%2fauth%2fpeopleapi.readonly\n",
            "\n",
            "Enter your authorization code:\n",
            "··········\n",
            "Mounted at content/gdrive\n"
          ],
          "name": "stdout"
        }
      ]
    },
    {
      "cell_type": "code",
      "metadata": {
        "id": "CaG08EObShma",
        "colab_type": "code",
        "outputId": "a7b5d254-ece9-4a57-a147-e4ef1c84cfa2",
        "colab": {
          "base_uri": "https://localhost:8080/",
          "height": 34
        }
      },
      "source": [
        "os.getcwd()"
      ],
      "execution_count": 0,
      "outputs": [
        {
          "output_type": "execute_result",
          "data": {
            "text/plain": [
              "'/content/gdrive/My Drive/colab'"
            ]
          },
          "metadata": {
            "tags": []
          },
          "execution_count": 4
        }
      ]
    },
    {
      "cell_type": "code",
      "metadata": {
        "id": "1iL89-ovRg4g",
        "colab_type": "code",
        "colab": {}
      },
      "source": [
        "df=pd.read_csv(\"5331F_政府採購法問答集定稿.csv\")\n",
        "df['問題']=df['問題'].str.replace('\\n','').str.replace('\\r','')\n",
        "df['答案']=df['答案'].str.replace('\\n','').str.replace('\\r','')"
      ],
      "execution_count": 0,
      "outputs": []
    },
    {
      "cell_type": "code",
      "metadata": {
        "id": "fJJJXlHiVIt5",
        "colab_type": "code",
        "colab": {}
      },
      "source": [
        "ask=\"採購另有工程、財物、勞動性質，怎樣知道其採購歸屬？\"\n",
        "ask=HanziConv.toSimplified(ask)"
      ],
      "execution_count": 0,
      "outputs": []
    },
    {
      "cell_type": "code",
      "metadata": {
        "id": "uiBorDg957vL",
        "colab_type": "code",
        "outputId": "c366cd22-07ef-46d3-f6cb-3f95dcbf9ae8",
        "colab": {
          "base_uri": "https://localhost:8080/",
          "height": 34
        }
      },
      "source": [
        "ask"
      ],
      "execution_count": 0,
      "outputs": [
        {
          "output_type": "execute_result",
          "data": {
            "text/plain": [
              "'採购兼有工程、财物、劳务性质，如何认定其採购归属？'"
            ]
          },
          "metadata": {
            "tags": []
          },
          "execution_count": 67
        }
      ]
    },
    {
      "cell_type": "code",
      "metadata": {
        "id": "HSj7iUnhWPk5",
        "colab_type": "code",
        "colab": {}
      },
      "source": [
        "answer=\"\"\n",
        "f=0.0\n",
        "for i,q in enumerate(df.loc[:,\"問題\"]):\n",
        "  q=HanziConv.toSimplified(q)\n",
        "  r=synonyms.compare(ask, q, seg=True)\n",
        "  if r > f:\n",
        "    f=r\n",
        "    answer = df.loc[i,\"答案\"]\n",
        "  print(r)\n",
        "\n",
        "if f<0.8:\n",
        "  answer =\"無此問題的解答\""
      ],
      "execution_count": 0,
      "outputs": []
    },
    {
      "cell_type": "code",
      "metadata": {
        "id": "yDMPgkE3bpQj",
        "colab_type": "code",
        "outputId": "c0bdc700-0f04-4d7a-b8b0-03a8dff2dad4",
        "colab": {
          "base_uri": "https://localhost:8080/",
          "height": 34
        }
      },
      "source": [
        "answer"
      ],
      "execution_count": 0,
      "outputs": [
        {
          "output_type": "execute_result",
          "data": {
            "text/plain": [
              "'採購兼有工程、財物、勞務性質，難以認定其採購歸屬者，依政府採購法第7 條第4 項規定，按其性質所占預算金額比率最高者歸屬之。'"
            ]
          },
          "metadata": {
            "tags": []
          },
          "execution_count": 87
        }
      ]
    },
    {
      "cell_type": "code",
      "metadata": {
        "id": "NIuO5qUfTnrR",
        "colab_type": "code",
        "outputId": "faa8f912-4d1c-49a7-b1a7-d8b2967ffe5b",
        "colab": {
          "base_uri": "https://localhost:8080/",
          "height": 373
        }
      },
      "source": [
        "df"
      ],
      "execution_count": 0,
      "outputs": [
        {
          "output_type": "execute_result",
          "data": {
            "text/html": [
              "<div>\n",
              "<style scoped>\n",
              "    .dataframe tbody tr th:only-of-type {\n",
              "        vertical-align: middle;\n",
              "    }\n",
              "\n",
              "    .dataframe tbody tr th {\n",
              "        vertical-align: top;\n",
              "    }\n",
              "\n",
              "    .dataframe thead th {\n",
              "        text-align: right;\n",
              "    }\n",
              "</style>\n",
              "<table border=\"1\" class=\"dataframe\">\n",
              "  <thead>\n",
              "    <tr style=\"text-align: right;\">\n",
              "      <th></th>\n",
              "      <th>問題</th>\n",
              "      <th>答案</th>\n",
              "    </tr>\n",
              "  </thead>\n",
              "  <tbody>\n",
              "    <tr>\n",
              "      <th>0</th>\n",
              "      <td>採購兼有工程、財物、勞務性質，如何認定其採購歸屬？</td>\n",
              "      <td>採購兼有工程、財物、勞務性質，難以認定其採購歸屬者，依政府採購法第7 條第4 項規定，按其性...</td>\n",
              "    </tr>\n",
              "    <tr>\n",
              "      <th>1</th>\n",
              "      <td>得標廠商於決標後稱其標價書寫錯誤， 拒不簽約，押標金會不會被没收？</td>\n",
              "      <td>招標文件載明政府採購法第31條第2項第5款者，不發還其押標金。</td>\n",
              "    </tr>\n",
              "    <tr>\n",
              "      <th>2</th>\n",
              "      <td>廠商可否以公司支票繳納押標金或履約保證金？</td>\n",
              "      <td>廠商公司支票非屬政府採購法第30條第2項所稱「金融機構支票」，不得做為押標金或履約保證金。</td>\n",
              "    </tr>\n",
              "    <tr>\n",
              "      <th>3</th>\n",
              "      <td>廠商參與投標，以金融機構支票繳納押標金，但未載明受款人，是否有效？</td>\n",
              "      <td>廠商以受款人空白之金融機構支票繳納押標金，以執票之機關為受款人，該票據仍屬有效。</td>\n",
              "    </tr>\n",
              "    <tr>\n",
              "      <th>4</th>\n",
              "      <td>廠商報價超過預算金額是否為有效標？</td>\n",
              "      <td>已公開預算金額之採購案，機關得於招標文件規定：「標價超過預算者為不合格標，不予減價機會」；招...</td>\n",
              "    </tr>\n",
              "    <tr>\n",
              "      <th>5</th>\n",
              "      <td>某機關辦理採購，經開標減價結果，有一廠商總標價與底價相同，則可否再洽廠商減價?</td>\n",
              "      <td>已在底價以內之情形，不可以再洽廠商減價，除有政府採購法第58條部分標價偏低之情形者外，應即宣...</td>\n",
              "    </tr>\n",
              "    <tr>\n",
              "      <th>6</th>\n",
              "      <td>最低標廠商之報價低於底價70%，經機關依政府採購法第58 條規定通知該最低標廠商提出說明後，...</td>\n",
              "      <td>廠商提出之說明經機關認為顯不合理或尚非完全合理者，不通知該廠商提出差額保證金，逕不決標予該廠...</td>\n",
              "    </tr>\n",
              "    <tr>\n",
              "      <th>7</th>\n",
              "      <td>廠商報價偏低，經機關通知繳納差額保證金後決標者，其得標後是否仍須依招標文件規定繳納履約保證金？</td>\n",
              "      <td>「差額保證金」係作為廠商報價偏低顯不合理、有影響履約品質之虞，應機關要求作為決標予該廠商之擔...</td>\n",
              "    </tr>\n",
              "    <tr>\n",
              "      <th>8</th>\n",
              "      <td>投標廠商於報價單填列之總價，大寫及小寫金額不一致，以何者為準？</td>\n",
              "      <td>依政府採購法施行細則第81條規定，投標文件記載金額之文字與號碼不符時，以文字為準。</td>\n",
              "    </tr>\n",
              "    <tr>\n",
              "      <th>9</th>\n",
              "      <td>工程會訂頒之各類採購契約範本之效力如何？</td>\n",
              "      <td>政府採購法第63條第1項規定：「各類採購契約以採用主管機關訂定之範本為原則，其要項及內容由主...</td>\n",
              "    </tr>\n",
              "    <tr>\n",
              "      <th>10</th>\n",
              "      <td>機關如未於招標文件標示主要部分或應由得標廠商自行履行之部分，如何認定廠商履約過程是否轉包？</td>\n",
              "      <td>政府採購法第65條第2項規定：「前項所稱轉包，指將原契約中應自行履行之全部或其主要部分，由其...</td>\n",
              "    </tr>\n",
              "  </tbody>\n",
              "</table>\n",
              "</div>"
            ],
            "text/plain": [
              "                                                   問題                                                 答案\n",
              "0                           採購兼有工程、財物、勞務性質，如何認定其採購歸屬？  採購兼有工程、財物、勞務性質，難以認定其採購歸屬者，依政府採購法第7 條第4 項規定，按其性...\n",
              "1                   得標廠商於決標後稱其標價書寫錯誤， 拒不簽約，押標金會不會被没收？                    招標文件載明政府採購法第31條第2項第5款者，不發還其押標金。\n",
              "2                               廠商可否以公司支票繳納押標金或履約保證金？      廠商公司支票非屬政府採購法第30條第2項所稱「金融機構支票」，不得做為押標金或履約保證金。\n",
              "3                   廠商參與投標，以金融機構支票繳納押標金，但未載明受款人，是否有效？           廠商以受款人空白之金融機構支票繳納押標金，以執票之機關為受款人，該票據仍屬有效。\n",
              "4                                   廠商報價超過預算金額是否為有效標？  已公開預算金額之採購案，機關得於招標文件規定：「標價超過預算者為不合格標，不予減價機會」；招...\n",
              "5             某機關辦理採購，經開標減價結果，有一廠商總標價與底價相同，則可否再洽廠商減價?  已在底價以內之情形，不可以再洽廠商減價，除有政府採購法第58條部分標價偏低之情形者外，應即宣...\n",
              "6   最低標廠商之報價低於底價70%，經機關依政府採購法第58 條規定通知該最低標廠商提出說明後，...  廠商提出之說明經機關認為顯不合理或尚非完全合理者，不通知該廠商提出差額保證金，逕不決標予該廠...\n",
              "7     廠商報價偏低，經機關通知繳納差額保證金後決標者，其得標後是否仍須依招標文件規定繳納履約保證金？  「差額保證金」係作為廠商報價偏低顯不合理、有影響履約品質之虞，應機關要求作為決標予該廠商之擔...\n",
              "8                     投標廠商於報價單填列之總價，大寫及小寫金額不一致，以何者為準？          依政府採購法施行細則第81條規定，投標文件記載金額之文字與號碼不符時，以文字為準。\n",
              "9                                工程會訂頒之各類採購契約範本之效力如何？  政府採購法第63條第1項規定：「各類採購契約以採用主管機關訂定之範本為原則，其要項及內容由主...\n",
              "10      機關如未於招標文件標示主要部分或應由得標廠商自行履行之部分，如何認定廠商履約過程是否轉包？  政府採購法第65條第2項規定：「前項所稱轉包，指將原契約中應自行履行之全部或其主要部分，由其..."
            ]
          },
          "metadata": {
            "tags": []
          },
          "execution_count": 128
        }
      ]
    }
  ]
}